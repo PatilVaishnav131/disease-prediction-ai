{
  "nbformat": 4,
  "nbformat_minor": 0,
  "metadata": {
    "colab": {
      "provenance": [],
      "gpuType": "T4",
      "mount_file_id": "1XDjq_KVptAlhYnLkcVouWHfyr6Rc3IOr",
      "authorship_tag": "ABX9TyMUIaGidq+ZlQmxMU9onb77",
      "include_colab_link": true
    },
    "kernelspec": {
      "name": "python3",
      "display_name": "Python 3"
    },
    "language_info": {
      "name": "python"
    },
    "accelerator": "GPU"
  },
  "cells": [
    {
      "cell_type": "markdown",
      "metadata": {
        "id": "view-in-github",
        "colab_type": "text"
      },
      "source": [
        "<a href=\"https://colab.research.google.com/github/PatilVaishnav131/disease-prediction-ai/blob/main/Malaria_detection.ipynb\" target=\"_parent\"><img src=\"https://colab.research.google.com/assets/colab-badge.svg\" alt=\"Open In Colab\"/></a>"
      ]
    },
    {
      "cell_type": "markdown",
      "source": [
        "Certainly! Here's a comprehensive summary and description of the entire malaria detection pipeline you performed using the NIH dataset on Google Colab, from data preparation to model fine-tuning and evaluation:\n",
        "\n",
        "## **Steps Performed in the Malaria Detection Pipeline**\n",
        "\n",
        "### 1. **Data Preparation**\n",
        "- **Downloading & Unzipping Dataset:**  \n",
        "  Used the NIH malaria cell images dataset containing ~27,558 images labeled into two classes:  \n",
        "  - `Parasitized`  \n",
        "  - `Uninfected`\n",
        "\n",
        "- **Organizing Dataset Structure:**  \n",
        "  The original folder contained an unwanted extra folder (`cell_images` inside the dataset). You removed or excluded that folder so only the two class folders remained under the main data directory:  \n",
        "  ```\n",
        "  /content/MalariaDataset/cell_images/\n",
        "      Parasitized/\n",
        "      Uninfected/\n",
        "  ```\n",
        "\n",
        "- **Splitting Dataset:**  \n",
        "  Created an explicit **train/validation/test split** by copying images into separate folders for each split and class, ensuring no data leakage:  \n",
        "  ```\n",
        "  /content/MalariaDataset/split/\n",
        "      train/\n",
        "          Parasitized/\n",
        "          Uninfected/\n",
        "      val/\n",
        "          Parasitized/\n",
        "          Uninfected/\n",
        "      test/\n",
        "          Parasitized/\n",
        "          Uninfected/\n",
        "  ```\n",
        "  Split ratio example: 70% train, 15% validation, 15% test. Randomized images per class to ensure good distribution.\n",
        "\n",
        "### 2. **Data Loading and Augmentation**\n",
        "- Used Keras `ImageDataGenerator` to create data pipelines for training, validation, and test sets:\n",
        "\n",
        "  - **Training Generator:**  \n",
        "    Image preprocessing and augmentations such as rotation, zoom, shear, shift, and horizontal flipping along with rescaling pixel values to .\n",
        "\n",
        "  - **Validation and Test Generators:**  \n",
        "    Only rescaled pixel values without augmentation. Set `shuffle=False` for validation and test to preserve label order for evaluation accuracy.\n",
        "\n",
        "- Verified that the data generators correctly detected the two classes and the image counts per split.\n",
        "\n",
        "### 3. **Model Building**\n",
        "- Initialized **MobileNetV2** (pretrained on ImageNet) as a base model with `include_top=False` to remove the classification head.\n",
        "\n",
        "- Frozen the base model initially to prevent convolutional layers from training during initial epochs.\n",
        "\n",
        "- Added custom classification layers on top:\n",
        "  - Global Average Pooling layer\n",
        "  - Dense layer with 128 neurons and ReLU activation\n",
        "  - Dropout layer (0.3 rate)\n",
        "  - Final Dense layer with 1 neuron and sigmoid activation for binary classification\n",
        "\n",
        "- Compiled the model with `adam` optimizer, `binary_crossentropy` loss, and `accuracy` metric.\n",
        "\n",
        "### 4. **Model Training**\n",
        "- Trained the model on the training data with validation monitoring and used:\n",
        "  - EarlyStopping callback to stop training on no validation loss improvement.\n",
        "  - ModelCheckpoint to save the best model weights.\n",
        "\n",
        "- Achieved training/validation accuracy around 92% after a number of epochs.\n",
        "\n",
        "### 5. **Model Evaluation**\n",
        "- Evaluated the trained model on the **independent test set** using the test generator (`shuffle=False`):\n",
        "\n",
        "- Predicted probabilities and converted to binary class predictions based on threshold 0.5.\n",
        "\n",
        "- Computed:\n",
        "  - Classification report (precision, recall, F1-score, support)\n",
        "  - Confusion matrix\n",
        "  - ROC AUC score\n",
        "\n",
        "- Achieved strong results with overall test accuracy ~93%, ROC AUC ~0.98, indicating robust, balanced classification performance.\n",
        "\n",
        "### 6. **Fine-Tuning**\n",
        "- Unfroze part or all of the MobileNetV2 base model layers (e.g., last 20 layers) to let the pretrained base adapt better to the malaria dataset.\n",
        "\n",
        "- Recompiled the model with a **lower learning rate** (e.g., 1e-5) suitable for fine-tuning.\n",
        "\n",
        "- Continued training for a few more epochs with early stopping.\n",
        "\n",
        "- Evaluated again on the test set to confirm improved or maintained performance.\n",
        "\n",
        "## **Description of the Entire Process**\n",
        "\n",
        "You built an end-to-end pipeline for malaria detection from microscope images by leveraging deep learning best practices and transfer learning:\n",
        "\n",
        "1. **Preparing the data** correctly with an explicit split ensures your model truly generalizes to unseen data, avoiding the risks of overfitting or information leakage.\n",
        "\n",
        "2. **Using data augmentation during training** increases variety in images and improves the model's robustness.\n",
        "\n",
        "3. **MobileNetV2 as a lightweight CNN backbone** coupled with a custom classifier provides an effective and efficient architecture suited for this binary classification task.\n",
        "\n",
        "4. **Transfer learning** allows the model to start from a well-trained weight space, leading to faster convergence and better accuracy compared to training from scratch.\n",
        "\n",
        "5. **Proper validation and test handling, including disabling shuffling in evaluation generators,** ensures that predicted labels correctly map to ground truths for reliable metric calculation.\n",
        "\n",
        "6. **Model fine-tuning after initial training** lets the base convolutional layers specialize for your specific dataset, potentially boosting performance further without losing the generalized ImageNet features.\n",
        "\n",
        ""
      ],
      "metadata": {
        "id": "M_BFlcmWfhwN"
      }
    },
    {
      "cell_type": "code",
      "source": [
        "import zipfile\n",
        "import os\n",
        "\n",
        "# Set path where your ZIP is located\n",
        "zip_path = '/content/drive/MyDrive/malaria_dataset/archive (2).zip'\n",
        "extract_to = '/content/MalariaDataset'\n",
        "\n",
        "# Unzip\n",
        "with zipfile.ZipFile(zip_path, 'r') as zip_ref:\n",
        "    zip_ref.extractall(extract_to)\n",
        "\n",
        "# List top-level folders\n",
        "os.listdir(extract_to)\n"
      ],
      "metadata": {
        "id": "R8MitE4DmQ_F",
        "colab": {
          "base_uri": "https://localhost:8080/"
        },
        "outputId": "143abeb6-6bd3-4a6b-de00-9c2768fe38a8"
      },
      "execution_count": 2,
      "outputs": [
        {
          "output_type": "execute_result",
          "data": {
            "text/plain": [
              "['cell_images']"
            ]
          },
          "metadata": {},
          "execution_count": 2
        }
      ]
    },
    {
      "cell_type": "markdown",
      "source": [
        "## Data visualization"
      ],
      "metadata": {
        "id": "yXUdERi5DnUg"
      }
    },
    {
      "cell_type": "code",
      "source": [
        "def img_show(img_path):\n",
        "  import matplotlib.pyplot as plt\n",
        "  import matplotlib.image as mpimg\n",
        "\n",
        "  img = mpimg.imread(img_path)\n",
        "  plt.imshow(img)\n",
        "  plt.axis('off') # Hide axes\n",
        "  plt.show()"
      ],
      "metadata": {
        "id": "5_D-XbQJb198"
      },
      "execution_count": 18,
      "outputs": []
    },
    {
      "cell_type": "markdown",
      "source": [
        "Infected cells"
      ],
      "metadata": {
        "id": "DHKorQwtbnSg"
      }
    },
    {
      "cell_type": "code",
      "source": [
        "img_show('/content/MalariaDataset/cell_images/Parasitized/C100P61ThinF_IMG_20150918_144104_cell_168.png')"
      ],
      "metadata": {
        "colab": {
          "base_uri": "https://localhost:8080/",
          "height": 406
        },
        "id": "r84KfR5t8_zk",
        "outputId": "46a42ac9-b01d-4acb-bd78-b42492422839"
      },
      "execution_count": 19,
      "outputs": [
        {
          "output_type": "display_data",
          "data": {
            "text/plain": [
              "<Figure size 640x480 with 1 Axes>"
            ],
            "image/png": "[encoded data removed]"
          },
          "metadata": {}
        }
      ]
    },
    {
      "cell_type": "markdown",
      "source": [
        "Uninfected"
      ],
      "metadata": {
        "id": "tUNlIh0YchIn"
      }
    },
    {
      "cell_type": "code",
      "source": [
        "img_show(\"/content/MalariaDataset/split/test/Uninfected/C100P61ThinF_IMG_20150918_144348_cell_125.png\")"
      ],
      "metadata": {
        "colab": {
          "base_uri": "https://localhost:8080/",
          "height": 406
        },
        "id": "eTaUfQqsUPtN",
        "outputId": "f62dc793-cd79-44f9-a0bd-9ee3c4007fdf"
      },
      "execution_count": 20,
      "outputs": [
        {
          "output_type": "display_data",
          "data": {
            "text/plain": [
              "<Figure size 640x480 with 1 Axes>"
            ],
            "image/png": "[encoded data removed]"
          },
          "metadata": {}
        }
      ]
    },
    {
      "cell_type": "code",
      "source": [
        "import os\n",
        "\n",
        "def count_images_in_directory(directory):\n",
        "    image_extensions = {'.png', '.jpg', '.jpeg', '.gif', '.bmp', '.tiff', '.webp'}\n",
        "    count = 0\n",
        "\n",
        "    for file in os.listdir(directory):\n",
        "        if os.path.isfile(os.path.join(directory, file)):\n",
        "            if os.path.splitext(file)[1].lower() in image_extensions:\n",
        "                count += 1\n",
        "\n",
        "    return count\n",
        "\n",
        "# Example usage\n",
        "directory_path = \"/content/MalariaDataset/cell_images/Parasitized\"\n",
        "print(\"Number of images Parasitized:\", count_images_in_directory(directory_path))\n",
        "print(\"Number of images Uninfected:\", count_images_in_directory(\"/content/MalariaDataset/cell_images/Uninfected\"))\n",
        "print(\"Total number of images:\", count_images_in_directory(directory_path) + count_images_in_directory(\"/content/MalariaDataset/cell_images/Uninfected\"))\n"
      ],
      "metadata": {
        "colab": {
          "base_uri": "https://localhost:8080/"
        },
        "id": "-j4QUThPAtKc",
        "outputId": "c0569bd9-9fee-40c8-d521-042de8374c98"
      },
      "execution_count": 7,
      "outputs": [
        {
          "output_type": "stream",
          "name": "stdout",
          "text": [
            "Number of images Parasitized: 13779\n",
            "Number of images Uninfected: 13779\n",
            "Total number of images: 27558\n"
          ]
        }
      ]
    },
    {
      "cell_type": "markdown",
      "source": [
        "## Data preparation"
      ],
      "metadata": {
        "id": "4TFLQ8woD0Nr"
      }
    },
    {
      "cell_type": "code",
      "source": [
        "import os\n",
        "import shutil\n",
        "import random\n",
        "\n",
        "# Set paths\n",
        "original_dir = '/content/MalariaDataset/cell_images'\n",
        "output_base = '/content/MalariaDataset/split'\n",
        "splits = {'train': 0.7, 'val': 0.15, 'test': 0.15}  # 70% train, 15% val, 15% test\n",
        "classes = ['Parasitized', 'Uninfected']\n",
        "\n",
        "# Ensure output directories exist\n",
        "for split in splits.keys():\n",
        "    for cls in classes:\n",
        "        dir_path = os.path.join(output_base, split, cls)\n",
        "        os.makedirs(dir_path, exist_ok=True)\n",
        "\n",
        "# For each class, shuffle and split images, then copy to target folders\n",
        "for cls in classes:\n",
        "    src_dir = os.path.join(original_dir, cls)\n",
        "    images = [f for f in os.listdir(src_dir) if f.endswith('.png') or f.endswith('.jpg') or f.endswith('.jpeg')]\n",
        "    random.shuffle(images)\n",
        "    n_total = len(images)\n",
        "    n_train = int(splits['train'] * n_total)\n",
        "    n_val = int(splits['val'] * n_total)\n",
        "    n_test = n_total - n_train - n_val\n",
        "\n",
        "    split_idxs = {\n",
        "        'train': (0, n_train),\n",
        "        'val': (n_train, n_train + n_val),\n",
        "        'test': (n_train + n_val, n_total)\n",
        "    }\n",
        "\n",
        "    for split, (start, end) in split_idxs.items():\n",
        "        split_dir = os.path.join(output_base, split, cls)\n",
        "        for img in images[start:end]:\n",
        "            src_path = os.path.join(src_dir, img)\n",
        "            dst_path = os.path.join(split_dir, img)\n",
        "            shutil.copy2(src_path, dst_path)\n",
        "\n",
        "print(\"Data split complete! The following structure now exists:\")\n",
        "for split in splits.keys():\n",
        "    for cls in classes:\n",
        "        folder = os.path.join(output_base, split, cls)\n",
        "        print(f\"{folder}: {len(os.listdir(folder))} images\")\n"
      ],
      "metadata": {
        "colab": {
          "base_uri": "https://localhost:8080/"
        },
        "id": "ERnOmXuAWpKI",
        "outputId": "52928354-5477-44c9-d96a-9c4ba2c294d7"
      },
      "execution_count": 13,
      "outputs": [
        {
          "output_type": "stream",
          "name": "stdout",
          "text": [
            "Data split complete! The following structure now exists:\n",
            "/content/MalariaDataset/split/train/Parasitized: 9645 images\n",
            "/content/MalariaDataset/split/train/Uninfected: 9645 images\n",
            "/content/MalariaDataset/split/val/Parasitized: 2066 images\n",
            "/content/MalariaDataset/split/val/Uninfected: 2066 images\n",
            "/content/MalariaDataset/split/test/Parasitized: 2068 images\n",
            "/content/MalariaDataset/split/test/Uninfected: 2068 images\n"
          ]
        }
      ]
    },
    {
      "cell_type": "code",
      "source": [
        "import shutil\n",
        "\n",
        "# Path to the extra unwanted folder\n",
        "unwanted_folder = '/content/MalariaDataset/cell_images/cell_images'\n",
        "shutil.rmtree(unwanted_folder)  # This will remove the unwanted subfolder\n"
      ],
      "metadata": {
        "id": "0I5OXoKqGmoX"
      },
      "execution_count": 4,
      "outputs": []
    },
    {
      "cell_type": "code",
      "source": [
        "from tensorflow.keras.preprocessing.image import ImageDataGenerator\n",
        "import shutil\n",
        "\n",
        "\n",
        "img_size = (128, 128)\n",
        "batch_size = 32\n",
        "data_dir = '/content/MalariaDataset/cell_images'  # Use parent directory!\n",
        "\n",
        "\n",
        "train_datagen = ImageDataGenerator(\n",
        "    rescale=1./255,\n",
        "    rotation_range=15,\n",
        "    width_shift_range=0.1,\n",
        "    height_shift_range=0.1,\n",
        "    shear_range=0.1,\n",
        "    zoom_range=0.1,\n",
        "    horizontal_flip=True,\n",
        "    validation_split=0.2\n",
        ")\n",
        "\n",
        "train_generator = train_datagen.flow_from_directory(\n",
        "    data_dir,\n",
        "    target_size=img_size,\n",
        "    batch_size=batch_size,\n",
        "    class_mode='binary',\n",
        "    subset='training'\n",
        ")\n",
        "val_generator = train_datagen.flow_from_directory(\n",
        "    data_dir,\n",
        "    target_size=img_size,\n",
        "    batch_size=batch_size,\n",
        "    class_mode='binary',\n",
        "    subset='validation'\n",
        ")"
      ],
      "metadata": {
        "colab": {
          "base_uri": "https://localhost:8080/"
        },
        "id": "YzOOWurjC9ge",
        "outputId": "db412eda-cf82-4436-80d0-5304bb26cbd7"
      },
      "execution_count": 6,
      "outputs": [
        {
          "output_type": "stream",
          "name": "stdout",
          "text": [
            "Found 22048 images belonging to 2 classes.\n",
            "Found 5510 images belonging to 2 classes.\n"
          ]
        }
      ]
    },
    {
      "cell_type": "markdown",
      "source": [
        "##Model importing"
      ],
      "metadata": {
        "id": "EsOHAh92Ha4_"
      }
    },
    {
      "cell_type": "code",
      "metadata": {
        "colab": {
          "base_uri": "https://localhost:8080/"
        },
        "id": "26cf0cf5",
        "outputId": "9e6e3469-9ea9-4bee-9ef4-fc500589e583"
      },
      "source": [
        "from tensorflow.keras.applications import MobileNetV2\n",
        "from tensorflow.keras import models, layers\n",
        "\n",
        "# Load the MobileNetV2 model with pre-trained weights\n",
        "base_model = MobileNetV2(weights='imagenet', include_top=False, input_shape=img_size+(3,))\n",
        "base_model.trainable = False  # Freeze the base model layers\n",
        "\n",
        "# Build the transfer learning model\n",
        "tl_model = models.Sequential([\n",
        "    base_model,\n",
        "    layers.GlobalAveragePooling2D(),\n",
        "    layers.Dense(128, activation='relu'),\n",
        "    layers.Dense(1, activation='sigmoid')  # Sigmoid for binary classification\n",
        "])\n",
        "\n",
        "# Compile the model\n",
        "tl_model.compile(optimizer='adam', loss='binary_crossentropy', metrics=['accuracy'])\n",
        "\n"
      ],
      "execution_count": 7,
      "outputs": [
        {
          "output_type": "stream",
          "name": "stdout",
          "text": [
            "Downloading data from https://storage.googleapis.com/tensorflow/keras-applications/mobilenet_v2/mobilenet_v2_weights_tf_dim_ordering_tf_kernels_1.0_128_no_top.h5\n",
            "\u001b[1m9406464/9406464\u001b[0m \u001b[32m━━━━━━━━━━━━━━━━━━━━\u001b[0m\u001b[37m\u001b[0m \u001b[1m0s\u001b[0m 0us/step\n"
          ]
        }
      ]
    },
    {
      "cell_type": "markdown",
      "source": [
        "## Training model"
      ],
      "metadata": {
        "id": "u0punAltIG2H"
      }
    },
    {
      "cell_type": "code",
      "source": [
        "# Train the model\n",
        "from tensorflow.keras.callbacks import EarlyStopping, ModelCheckpoint\n",
        "\n",
        "es = EarlyStopping(monitor='val_loss', patience=3, restore_best_weights=True)\n",
        "mc = ModelCheckpoint('best_model.h5', save_best_only=True)\n",
        "\n",
        "history = tl_model.fit(\n",
        "    train_generator,\n",
        "    epochs=15,\n",
        "    validation_data=val_generator,\n",
        "    callbacks=[es, mc]\n",
        ")\n"
      ],
      "metadata": {
        "colab": {
          "base_uri": "https://localhost:8080/"
        },
        "id": "yTcTCB8vH22g",
        "outputId": "69548521-2387-4af4-814c-0ac5746671ff"
      },
      "execution_count": 8,
      "outputs": [
        {
          "output_type": "stream",
          "name": "stderr",
          "text": [
            "/usr/local/lib/python3.11/dist-packages/keras/src/trainers/data_adapters/py_dataset_adapter.py:121: UserWarning: Your `PyDataset` class should call `super().__init__(**kwargs)` in its constructor. `**kwargs` can include `workers`, `use_multiprocessing`, `max_queue_size`. Do not pass these arguments to `fit()`, as they will be ignored.\n",
            "  self._warn_if_super_not_called()\n"
          ]
        },
        {
          "output_type": "stream",
          "name": "stdout",
          "text": [
            "Epoch 1/15\n",
            "\u001b[1m689/689\u001b[0m \u001b[32m━━━━━━━━━━━━━━━━━━━━\u001b[0m\u001b[37m\u001b[0m \u001b[1m0s\u001b[0m 150ms/step - accuracy: 0.8727 - loss: 0.2968"
          ]
        },
        {
          "output_type": "stream",
          "name": "stderr",
          "text": [
            "WARNING:absl:You are saving your model as an HDF5 file via `model.save()` or `keras.saving.save_model(model)`. This file format is considered legacy. We recommend using instead the native Keras format, e.g. `model.save('my_model.keras')` or `keras.saving.save_model(model, 'my_model.keras')`. \n"
          ]
        },
        {
          "output_type": "stream",
          "name": "stdout",
          "text": [
            "\b\b\b\b\b\b\b\b\b\b\b\b\b\b\b\b\b\b\b\b\b\b\b\b\b\b\b\b\b\b\b\b\b\b\b\b\b\b\b\b\b\b\b\b\b\b\b\b\b\b\b\b\b\b\b\b\b\b\b\b\b\b\b\b\b\b\b\b\b\b\b\b\b\b\b\b\r\u001b[1m689/689\u001b[0m \u001b[32m━━━━━━━━━━━━━━━━━━━━\u001b[0m\u001b[37m\u001b[0m \u001b[1m146s\u001b[0m 198ms/step - accuracy: 0.8728 - loss: 0.2967 - val_accuracy: 0.9047 - val_loss: 0.2588\n",
            "Epoch 2/15\n",
            "\u001b[1m689/689\u001b[0m \u001b[32m━━━━━━━━━━━━━━━━━━━━\u001b[0m\u001b[37m\u001b[0m \u001b[1m0s\u001b[0m 155ms/step - accuracy: 0.9196 - loss: 0.2153"
          ]
        },
        {
          "output_type": "stream",
          "name": "stderr",
          "text": [
            "WARNING:absl:You are saving your model as an HDF5 file via `model.save()` or `keras.saving.save_model(model)`. This file format is considered legacy. We recommend using instead the native Keras format, e.g. `model.save('my_model.keras')` or `keras.saving.save_model(model, 'my_model.keras')`. \n"
          ]
        },
        {
          "output_type": "stream",
          "name": "stdout",
          "text": [
            "\b\b\b\b\b\b\b\b\b\b\b\b\b\b\b\b\b\b\b\b\b\b\b\b\b\b\b\b\b\b\b\b\b\b\b\b\b\b\b\b\b\b\b\b\b\b\b\b\b\b\b\b\b\b\b\b\b\b\b\b\b\b\b\b\b\b\b\b\b\b\b\b\b\b\b\b\r\u001b[1m689/689\u001b[0m \u001b[32m━━━━━━━━━━━━━━━━━━━━\u001b[0m\u001b[37m\u001b[0m \u001b[1m133s\u001b[0m 193ms/step - accuracy: 0.9196 - loss: 0.2153 - val_accuracy: 0.9129 - val_loss: 0.2257\n",
            "Epoch 3/15\n",
            "\u001b[1m689/689\u001b[0m \u001b[32m━━━━━━━━━━━━━━━━━━━━\u001b[0m\u001b[37m\u001b[0m \u001b[1m0s\u001b[0m 151ms/step - accuracy: 0.9226 - loss: 0.2020"
          ]
        },
        {
          "output_type": "stream",
          "name": "stderr",
          "text": [
            "WARNING:absl:You are saving your model as an HDF5 file via `model.save()` or `keras.saving.save_model(model)`. This file format is considered legacy. We recommend using instead the native Keras format, e.g. `model.save('my_model.keras')` or `keras.saving.save_model(model, 'my_model.keras')`. \n"
          ]
        },
        {
          "output_type": "stream",
          "name": "stdout",
          "text": [
            "\b\b\b\b\b\b\b\b\b\b\b\b\b\b\b\b\b\b\b\b\b\b\b\b\b\b\b\b\b\b\b\b\b\b\b\b\b\b\b\b\b\b\b\b\b\b\b\b\b\b\b\b\b\b\b\b\b\b\b\b\b\b\b\b\b\b\b\b\b\b\b\b\b\b\b\b\r\u001b[1m689/689\u001b[0m \u001b[32m━━━━━━━━━━━━━━━━━━━━\u001b[0m\u001b[37m\u001b[0m \u001b[1m130s\u001b[0m 189ms/step - accuracy: 0.9226 - loss: 0.2020 - val_accuracy: 0.9194 - val_loss: 0.2142\n",
            "Epoch 4/15\n",
            "\u001b[1m689/689\u001b[0m \u001b[32m━━━━━━━━━━━━━━━━━━━━\u001b[0m\u001b[37m\u001b[0m \u001b[1m142s\u001b[0m 189ms/step - accuracy: 0.9246 - loss: 0.2002 - val_accuracy: 0.9143 - val_loss: 0.2353\n",
            "Epoch 5/15\n",
            "\u001b[1m689/689\u001b[0m \u001b[32m━━━━━━━━━━━━━━━━━━━━\u001b[0m\u001b[37m\u001b[0m \u001b[1m129s\u001b[0m 187ms/step - accuracy: 0.9283 - loss: 0.1901 - val_accuracy: 0.9181 - val_loss: 0.2265\n",
            "Epoch 6/15\n",
            "\u001b[1m689/689\u001b[0m \u001b[32m━━━━━━━━━━━━━━━━━━━━\u001b[0m\u001b[37m\u001b[0m \u001b[1m145s\u001b[0m 210ms/step - accuracy: 0.9268 - loss: 0.1968 - val_accuracy: 0.9162 - val_loss: 0.2208\n"
          ]
        }
      ]
    },
    {
      "cell_type": "markdown",
      "source": [
        "##Model Evaluation"
      ],
      "metadata": {
        "id": "aXWIeTvtJFXj"
      }
    },
    {
      "cell_type": "code",
      "source": [
        "from sklearn.metrics import classification_report, confusion_matrix, roc_auc_score\n",
        "import numpy as np\n",
        "\n",
        "# Assuming you have a test dataset generator\n",
        "test_generator = train_datagen.flow_from_directory(\n",
        "    data_dir,\n",
        "    target_size=img_size,\n",
        "    batch_size=batch_size,\n",
        "    class_mode='binary',\n",
        "    subset='validation'\n",
        ")\n",
        "preds = tl_model.predict(test_generator)\n",
        "y_pred = (preds > 0.5).astype(int).reshape(-1)\n",
        "y_true = test_generator.classes\n",
        "\n",
        "print(classification_report(y_true, y_pred))\n",
        "print('Confusion Matrix:\\n', confusion_matrix(y_true, y_pred))\n",
        "print('ROC AUC:', roc_auc_score(y_true, preds))\n"
      ],
      "metadata": {
        "colab": {
          "base_uri": "https://localhost:8080/"
        },
        "id": "54CpziTDJESl",
        "outputId": "3f034f3a-f29d-473d-c00a-ce69e6b0ec8a"
      },
      "execution_count": 10,
      "outputs": [
        {
          "output_type": "stream",
          "name": "stdout",
          "text": [
            "Found 5510 images belonging to 2 classes.\n",
            "\u001b[1m173/173\u001b[0m \u001b[32m━━━━━━━━━━━━━━━━━━━━\u001b[0m\u001b[37m\u001b[0m \u001b[1m32s\u001b[0m 165ms/step\n",
            "              precision    recall  f1-score   support\n",
            "\n",
            "           0       0.49      0.50      0.50      2755\n",
            "           1       0.49      0.48      0.49      2755\n",
            "\n",
            "    accuracy                           0.49      5510\n",
            "   macro avg       0.49      0.49      0.49      5510\n",
            "weighted avg       0.49      0.49      0.49      5510\n",
            "\n",
            "Confusion Matrix:\n",
            " [[1383 1372]\n",
            " [1431 1324]]\n",
            "ROC AUC: 0.495193230588832\n"
          ]
        }
      ]
    },
    {
      "cell_type": "code",
      "source": [
        "print(train_generator.class_indices)\n"
      ],
      "metadata": {
        "colab": {
          "base_uri": "https://localhost:8080/"
        },
        "id": "5BjVGns8P7mt",
        "outputId": "a8c89d68-a9a2-4595-ad7b-2395f8d11053"
      },
      "execution_count": 11,
      "outputs": [
        {
          "output_type": "stream",
          "name": "stdout",
          "text": [
            "{'Parasitized': 0, 'Uninfected': 1}\n"
          ]
        }
      ]
    },
    {
      "cell_type": "markdown",
      "source": [
        "#Trying again"
      ],
      "metadata": {
        "id": "sLIl6EEZXjPJ"
      }
    },
    {
      "cell_type": "code",
      "source": [
        "import tensorflow as tf\n",
        "from tensorflow.keras.preprocessing.image import ImageDataGenerator\n",
        "from tensorflow.keras import layers, models\n",
        "from tensorflow.keras.applications import MobileNetV2\n",
        "from tensorflow.keras.callbacks import EarlyStopping, ModelCheckpoint\n",
        "from sklearn.metrics import classification_report, confusion_matrix, roc_auc_score\n",
        "import numpy as np\n",
        "import os\n",
        "\n",
        "# Paths to your split directories (change if needed)\n",
        "base_dir = '/content/MalariaDataset/split'\n",
        "train_dir = os.path.join(base_dir, 'train')\n",
        "val_dir = os.path.join(base_dir, 'val')\n",
        "test_dir = os.path.join(base_dir, 'test')\n",
        "\n",
        "# Parameters\n",
        "img_size = (128, 128)\n",
        "batch_size = 32\n",
        "num_epochs = 25\n",
        "\n",
        "# 1. Data Generators with augmentation for train, rescale only for val and test\n",
        "train_datagen = ImageDataGenerator(\n",
        "    rescale=1./255,\n",
        "    rotation_range=15,\n",
        "    width_shift_range=0.1,\n",
        "    height_shift_range=0.1,\n",
        "    shear_range=0.1,\n",
        "    zoom_range=0.1,\n",
        "    horizontal_flip=True\n",
        ")\n",
        "val_datagen = ImageDataGenerator(rescale=1./255)\n",
        "test_datagen = ImageDataGenerator(rescale=1./255)\n",
        "\n",
        "train_generator = train_datagen.flow_from_directory(\n",
        "    train_dir,\n",
        "    target_size=img_size,\n",
        "    batch_size=batch_size,\n",
        "    class_mode='binary'\n",
        ")\n",
        "val_generator = val_datagen.flow_from_directory(\n",
        "    val_dir,\n",
        "    target_size=img_size,\n",
        "    batch_size=batch_size,\n",
        "    class_mode='binary',\n",
        "    shuffle=False  # Important to preserve order for evaluation\n",
        ")\n",
        "test_generator = test_datagen.flow_from_directory(\n",
        "    test_dir,\n",
        "    target_size=img_size,\n",
        "    batch_size=batch_size,\n",
        "    class_mode='binary',\n",
        "    shuffle=False  # Important to preserve order for evaluation\n",
        ")\n",
        "\n",
        "print(f\"Train samples: {train_generator.samples}\")\n",
        "print(f\"Validation samples: {val_generator.samples}\")\n",
        "print(f\"Test samples: {test_generator.samples}\")\n",
        "\n",
        "# 2. Build MobileNetV2 Transfer Learning Model\n",
        "base_model = MobileNetV2(input_shape=img_size + (3,), include_top=False, weights='imagenet')\n",
        "base_model.trainable = False  # Freeze base\n",
        "\n",
        "model = models.Sequential([\n",
        "    base_model,\n",
        "    layers.GlobalAveragePooling2D(),\n",
        "    layers.Dense(128, activation='relu'),\n",
        "    layers.Dropout(0.3),\n",
        "    layers.Dense(1, activation='sigmoid')  # Binary classification\n",
        "])\n",
        "\n",
        "model.compile(optimizer='adam', loss='binary_crossentropy', metrics=['accuracy'])\n",
        "model.summary()\n",
        "\n",
        "# 3. Train the model with EarlyStopping and ModelCheckpoint\n",
        "callbacks = [\n",
        "    EarlyStopping(monitor='val_loss', patience=3, restore_best_weights=True),\n",
        "    ModelCheckpoint('best_mobilenetv2.h5', save_best_only=True)\n",
        "]\n",
        "\n",
        "history = model.fit(\n",
        "    train_generator,\n",
        "    epochs=num_epochs,\n",
        "    validation_data=val_generator,\n",
        "    callbacks=callbacks\n",
        ")\n",
        "\n",
        "# 4. Evaluate on test set\n",
        "preds = model.predict(test_generator)\n",
        "y_pred = (preds > 0.5).astype(int).reshape(-1)\n",
        "y_true = test_generator.classes\n",
        "\n",
        "print(\"Classification Report:\")\n",
        "print(classification_report(y_true, y_pred, target_names=test_generator.class_indices.keys()))\n",
        "\n",
        "print(\"Confusion Matrix:\")\n",
        "print(confusion_matrix(y_true, y_pred))\n",
        "\n",
        "roc_auc = roc_auc_score(y_true, preds)\n",
        "print(f\"ROC AUC: {roc_auc:.4f}\")\n"
      ],
      "metadata": {
        "colab": {
          "base_uri": "https://localhost:8080/",
          "height": 967
        },
        "id": "i8Io5ZaRRArJ",
        "outputId": "b067b47e-f1ee-41a1-cfd0-f0db2305e8f8"
      },
      "execution_count": 15,
      "outputs": [
        {
          "output_type": "stream",
          "name": "stdout",
          "text": [
            "Found 19290 images belonging to 2 classes.\n",
            "Found 4132 images belonging to 2 classes.\n",
            "Found 4136 images belonging to 2 classes.\n",
            "Train samples: 19290\n",
            "Validation samples: 4132\n",
            "Test samples: 4136\n"
          ]
        },
        {
          "output_type": "display_data",
          "data": {
            "text/plain": [
              "\u001b[1mModel: \"sequential_1\"\u001b[0m\n"
            ],
            "text/html": [
              "<pre style=\"white-space:pre;overflow-x:auto;line-height:normal;font-family:Menlo,'DejaVu Sans Mono',consolas,'Courier New',monospace\"><span style=\"font-weight: bold\">Model: \"sequential_1\"</span>\n",
              "</pre>\n"
            ]
          },
          "metadata": {}
        },
        {
          "output_type": "display_data",
          "data": {
            "text/plain": [
              "┏━━━━━━━━━━━━━━━━━━━━━━━━━━━━━━━━━┳━━━━━━━━━━━━━━━━━━━━━━━━┳━━━━━━━━━━━━━━━┓\n",
              "┃\u001b[1m \u001b[0m\u001b[1mLayer (type)                   \u001b[0m\u001b[1m \u001b[0m┃\u001b[1m \u001b[0m\u001b[1mOutput Shape          \u001b[0m\u001b[1m \u001b[0m┃\u001b[1m \u001b[0m\u001b[1m      Param #\u001b[0m\u001b[1m \u001b[0m┃\n",
              "┡━━━━━━━━━━━━━━━━━━━━━━━━━━━━━━━━━╇━━━━━━━━━━━━━━━━━━━━━━━━╇━━━━━━━━━━━━━━━┩\n",
              "│ mobilenetv2_1.00_128            │ (\u001b[38;5;45mNone\u001b[0m, \u001b[38;5;34m4\u001b[0m, \u001b[38;5;34m4\u001b[0m, \u001b[38;5;34m1280\u001b[0m)     │     \u001b[38;5;34m2,257,984\u001b[0m │\n",
              "│ (\u001b[38;5;33mFunctional\u001b[0m)                    │                        │               │\n",
              "├─────────────────────────────────┼────────────────────────┼───────────────┤\n",
              "│ global_average_pooling2d_1      │ (\u001b[38;5;45mNone\u001b[0m, \u001b[38;5;34m1280\u001b[0m)           │             \u001b[38;5;34m0\u001b[0m │\n",
              "│ (\u001b[38;5;33mGlobalAveragePooling2D\u001b[0m)        │                        │               │\n",
              "├─────────────────────────────────┼────────────────────────┼───────────────┤\n",
              "│ dense_2 (\u001b[38;5;33mDense\u001b[0m)                 │ (\u001b[38;5;45mNone\u001b[0m, \u001b[38;5;34m128\u001b[0m)            │       \u001b[38;5;34m163,968\u001b[0m │\n",
              "├─────────────────────────────────┼────────────────────────┼───────────────┤\n",
              "│ dropout (\u001b[38;5;33mDropout\u001b[0m)               │ (\u001b[38;5;45mNone\u001b[0m, \u001b[38;5;34m128\u001b[0m)            │             \u001b[38;5;34m0\u001b[0m │\n",
              "├─────────────────────────────────┼────────────────────────┼───────────────┤\n",
              "│ dense_3 (\u001b[38;5;33mDense\u001b[0m)                 │ (\u001b[38;5;45mNone\u001b[0m, \u001b[38;5;34m1\u001b[0m)              │           \u001b[38;5;34m129\u001b[0m │\n",
              "└─────────────────────────────────┴────────────────────────┴───────────────┘\n"
            ],
            "text/html": [
              "<pre style=\"white-space:pre;overflow-x:auto;line-height:normal;font-family:Menlo,'DejaVu Sans Mono',consolas,'Courier New',monospace\">┏━━━━━━━━━━━━━━━━━━━━━━━━━━━━━━━━━┳━━━━━━━━━━━━━━━━━━━━━━━━┳━━━━━━━━━━━━━━━┓\n",
              "┃<span style=\"font-weight: bold\"> Layer (type)                    </span>┃<span style=\"font-weight: bold\"> Output Shape           </span>┃<span style=\"font-weight: bold\">       Param # </span>┃\n",
              "┡━━━━━━━━━━━━━━━━━━━━━━━━━━━━━━━━━╇━━━━━━━━━━━━━━━━━━━━━━━━╇━━━━━━━━━━━━━━━┩\n",
              "│ mobilenetv2_1.00_128            │ (<span style=\"color: #00d7ff; text-decoration-color: #00d7ff\">None</span>, <span style=\"color: #00af00; text-decoration-color: #00af00\">4</span>, <span style=\"color: #00af00; text-decoration-color: #00af00\">4</span>, <span style=\"color: #00af00; text-decoration-color: #00af00\">1280</span>)     │     <span style=\"color: #00af00; text-decoration-color: #00af00\">2,257,984</span> │\n",
              "│ (<span style=\"color: #0087ff; text-decoration-color: #0087ff\">Functional</span>)                    │                        │               │\n",
              "├─────────────────────────────────┼────────────────────────┼───────────────┤\n",
              "│ global_average_pooling2d_1      │ (<span style=\"color: #00d7ff; text-decoration-color: #00d7ff\">None</span>, <span style=\"color: #00af00; text-decoration-color: #00af00\">1280</span>)           │             <span style=\"color: #00af00; text-decoration-color: #00af00\">0</span> │\n",
              "│ (<span style=\"color: #0087ff; text-decoration-color: #0087ff\">GlobalAveragePooling2D</span>)        │                        │               │\n",
              "├─────────────────────────────────┼────────────────────────┼───────────────┤\n",
              "│ dense_2 (<span style=\"color: #0087ff; text-decoration-color: #0087ff\">Dense</span>)                 │ (<span style=\"color: #00d7ff; text-decoration-color: #00d7ff\">None</span>, <span style=\"color: #00af00; text-decoration-color: #00af00\">128</span>)            │       <span style=\"color: #00af00; text-decoration-color: #00af00\">163,968</span> │\n",
              "├─────────────────────────────────┼────────────────────────┼───────────────┤\n",
              "│ dropout (<span style=\"color: #0087ff; text-decoration-color: #0087ff\">Dropout</span>)               │ (<span style=\"color: #00d7ff; text-decoration-color: #00d7ff\">None</span>, <span style=\"color: #00af00; text-decoration-color: #00af00\">128</span>)            │             <span style=\"color: #00af00; text-decoration-color: #00af00\">0</span> │\n",
              "├─────────────────────────────────┼────────────────────────┼───────────────┤\n",
              "│ dense_3 (<span style=\"color: #0087ff; text-decoration-color: #0087ff\">Dense</span>)                 │ (<span style=\"color: #00d7ff; text-decoration-color: #00d7ff\">None</span>, <span style=\"color: #00af00; text-decoration-color: #00af00\">1</span>)              │           <span style=\"color: #00af00; text-decoration-color: #00af00\">129</span> │\n",
              "└─────────────────────────────────┴────────────────────────┴───────────────┘\n",
              "</pre>\n"
            ]
          },
          "metadata": {}
        },
        {
          "output_type": "display_data",
          "data": {
            "text/plain": [
              "\u001b[1m Total params: \u001b[0m\u001b[38;5;34m2,422,081\u001b[0m (9.24 MB)\n"
            ],
            "text/html": [
              "<pre style=\"white-space:pre;overflow-x:auto;line-height:normal;font-family:Menlo,'DejaVu Sans Mono',consolas,'Courier New',monospace\"><span style=\"font-weight: bold\"> Total params: </span><span style=\"color: #00af00; text-decoration-color: #00af00\">2,422,081</span> (9.24 MB)\n",
              "</pre>\n"
            ]
          },
          "metadata": {}
        },
        {
          "output_type": "display_data",
          "data": {
            "text/plain": [
              "\u001b[1m Trainable params: \u001b[0m\u001b[38;5;34m164,097\u001b[0m (641.00 KB)\n"
            ],
            "text/html": [
              "<pre style=\"white-space:pre;overflow-x:auto;line-height:normal;font-family:Menlo,'DejaVu Sans Mono',consolas,'Courier New',monospace\"><span style=\"font-weight: bold\"> Trainable params: </span><span style=\"color: #00af00; text-decoration-color: #00af00\">164,097</span> (641.00 KB)\n",
              "</pre>\n"
            ]
          },
          "metadata": {}
        },
        {
          "output_type": "display_data",
          "data": {
            "text/plain": [
              "\u001b[1m Non-trainable params: \u001b[0m\u001b[38;5;34m2,257,984\u001b[0m (8.61 MB)\n"
            ],
            "text/html": [
              "<pre style=\"white-space:pre;overflow-x:auto;line-height:normal;font-family:Menlo,'DejaVu Sans Mono',consolas,'Courier New',monospace\"><span style=\"font-weight: bold\"> Non-trainable params: </span><span style=\"color: #00af00; text-decoration-color: #00af00\">2,257,984</span> (8.61 MB)\n",
              "</pre>\n"
            ]
          },
          "metadata": {}
        },
        {
          "output_type": "stream",
          "name": "stderr",
          "text": [
            "/usr/local/lib/python3.11/dist-packages/keras/src/trainers/data_adapters/py_dataset_adapter.py:121: UserWarning: Your `PyDataset` class should call `super().__init__(**kwargs)` in its constructor. `**kwargs` can include `workers`, `use_multiprocessing`, `max_queue_size`. Do not pass these arguments to `fit()`, as they will be ignored.\n",
            "  self._warn_if_super_not_called()\n"
          ]
        },
        {
          "output_type": "stream",
          "name": "stdout",
          "text": [
            "Epoch 1/25\n",
            "\u001b[1m603/603\u001b[0m \u001b[32m━━━━━━━━━━━━━━━━━━━━\u001b[0m\u001b[37m\u001b[0m \u001b[1m0s\u001b[0m 161ms/step - accuracy: 0.8496 - loss: 0.3535"
          ]
        },
        {
          "output_type": "stream",
          "name": "stderr",
          "text": [
            "WARNING:absl:You are saving your model as an HDF5 file via `model.save()` or `keras.saving.save_model(model)`. This file format is considered legacy. We recommend using instead the native Keras format, e.g. `model.save('my_model.keras')` or `keras.saving.save_model(model, 'my_model.keras')`. \n"
          ]
        },
        {
          "output_type": "stream",
          "name": "stdout",
          "text": [
            "\b\b\b\b\b\b\b\b\b\b\b\b\b\b\b\b\b\b\b\b\b\b\b\b\b\b\b\b\b\b\b\b\b\b\b\b\b\b\b\b\b\b\b\b\b\b\b\b\b\b\b\b\b\b\b\b\b\b\b\b\b\b\b\b\b\b\b\b\b\b\b\b\b\b\b\b\r\u001b[1m603/603\u001b[0m \u001b[32m━━━━━━━━━━━━━━━━━━━━\u001b[0m\u001b[37m\u001b[0m \u001b[1m117s\u001b[0m 180ms/step - accuracy: 0.8496 - loss: 0.3534 - val_accuracy: 0.9003 - val_loss: 0.2367\n",
            "Epoch 2/25\n",
            "\u001b[1m603/603\u001b[0m \u001b[32m━━━━━━━━━━━━━━━━━━━━\u001b[0m\u001b[37m\u001b[0m \u001b[1m0s\u001b[0m 154ms/step - accuracy: 0.9098 - loss: 0.2345"
          ]
        },
        {
          "output_type": "stream",
          "name": "stderr",
          "text": [
            "WARNING:absl:You are saving your model as an HDF5 file via `model.save()` or `keras.saving.save_model(model)`. This file format is considered legacy. We recommend using instead the native Keras format, e.g. `model.save('my_model.keras')` or `keras.saving.save_model(model, 'my_model.keras')`. \n"
          ]
        },
        {
          "output_type": "stream",
          "name": "stdout",
          "text": [
            "\b\b\b\b\b\b\b\b\b\b\b\b\b\b\b\b\b\b\b\b\b\b\b\b\b\b\b\b\b\b\b\b\b\b\b\b\b\b\b\b\b\b\b\b\b\b\b\b\b\b\b\b\b\b\b\b\b\b\b\b\b\b\b\b\b\b\b\b\b\b\b\b\b\b\b\b\r\u001b[1m603/603\u001b[0m \u001b[32m━━━━━━━━━━━━━━━━━━━━\u001b[0m\u001b[37m\u001b[0m \u001b[1m98s\u001b[0m 162ms/step - accuracy: 0.9098 - loss: 0.2345 - val_accuracy: 0.9281 - val_loss: 0.1967\n",
            "Epoch 3/25\n",
            "\u001b[1m603/603\u001b[0m \u001b[32m━━━━━━━━━━━━━━━━━━━━\u001b[0m\u001b[37m\u001b[0m \u001b[1m98s\u001b[0m 162ms/step - accuracy: 0.9161 - loss: 0.2122 - val_accuracy: 0.9172 - val_loss: 0.2172\n",
            "Epoch 4/25\n",
            "\u001b[1m603/603\u001b[0m \u001b[32m━━━━━━━━━━━━━━━━━━━━\u001b[0m\u001b[37m\u001b[0m \u001b[1m96s\u001b[0m 160ms/step - accuracy: 0.9218 - loss: 0.2062 - val_accuracy: 0.8976 - val_loss: 0.2598\n",
            "Epoch 5/25\n",
            "\u001b[1m603/603\u001b[0m \u001b[32m━━━━━━━━━━━━━━━━━━━━\u001b[0m\u001b[37m\u001b[0m \u001b[1m96s\u001b[0m 159ms/step - accuracy: 0.9194 - loss: 0.2146 - val_accuracy: 0.8928 - val_loss: 0.2620\n",
            "\u001b[1m130/130\u001b[0m \u001b[32m━━━━━━━━━━━━━━━━━━━━\u001b[0m\u001b[37m\u001b[0m \u001b[1m12s\u001b[0m 70ms/step\n",
            "Classification Report:\n",
            "              precision    recall  f1-score   support\n",
            "\n",
            " Parasitized       0.94      0.91      0.92      2068\n",
            "  Uninfected       0.91      0.94      0.93      2068\n",
            "\n",
            "    accuracy                           0.93      4136\n",
            "   macro avg       0.93      0.93      0.93      4136\n",
            "weighted avg       0.93      0.93      0.93      4136\n",
            "\n",
            "Confusion Matrix:\n",
            "[[1880  188]\n",
            " [ 117 1951]]\n",
            "ROC AUC: 0.9773\n"
          ]
        }
      ]
    },
    {
      "cell_type": "code",
      "source": [
        "preds = model.predict(test_generator)\n",
        "y_pred = (preds > 0.5).astype(int).reshape(-1)\n",
        "y_true = test_generator.classes\n",
        "\n",
        "from sklearn.metrics import classification_report, confusion_matrix, roc_auc_score\n",
        "\n",
        "print(classification_report(y_true, y_pred, target_names=test_generator.class_indices.keys()))\n",
        "print(confusion_matrix(y_true, y_pred))\n",
        "print(f\"ROC AUC: {roc_auc_score(y_true, preds):.4f}\")\n"
      ],
      "metadata": {
        "colab": {
          "base_uri": "https://localhost:8080/"
        },
        "id": "yBuzTIwnYJ4u",
        "outputId": "c0e305e4-2899-4f9d-f40e-e9c5f425bc99"
      },
      "execution_count": 16,
      "outputs": [
        {
          "output_type": "stream",
          "name": "stdout",
          "text": [
            "\u001b[1m130/130\u001b[0m \u001b[32m━━━━━━━━━━━━━━━━━━━━\u001b[0m\u001b[37m\u001b[0m \u001b[1m6s\u001b[0m 44ms/step\n",
            "              precision    recall  f1-score   support\n",
            "\n",
            " Parasitized       0.94      0.91      0.92      2068\n",
            "  Uninfected       0.91      0.94      0.93      2068\n",
            "\n",
            "    accuracy                           0.93      4136\n",
            "   macro avg       0.93      0.93      0.93      4136\n",
            "weighted avg       0.93      0.93      0.93      4136\n",
            "\n",
            "[[1880  188]\n",
            " [ 117 1951]]\n",
            "ROC AUC: 0.9773\n"
          ]
        }
      ]
    },
    {
      "cell_type": "code",
      "source": [],
      "metadata": {
        "id": "owreNaxca8Gq"
      },
      "execution_count": null,
      "outputs": []
    }
  ]
}